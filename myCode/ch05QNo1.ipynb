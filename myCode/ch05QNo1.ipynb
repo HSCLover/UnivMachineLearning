{
 "cells": [
  {
   "cell_type": "code",
   "execution_count": 190,
   "metadata": {},
   "outputs": [],
   "source": [
    "import matplotlib.pyplot as plt\n",
    "import numpy as np\n",
    "from sklearn.neighbors import KNeighborsClassifier\n",
    "from sklearn import metrics"
   ]
  },
  {
   "cell_type": "code",
   "execution_count": 191,
   "metadata": {},
   "outputs": [],
   "source": [
    "dach_length = [75,77,83,81,73,99,72,83]\n",
    "dach_height = [24,29,19,32,21,22,19,34]\n",
    "\n",
    "samo_length = [76,78,82,88,76,83,81,89]\n",
    "samo_height = [55,58,53,54,61,52,57,64]\n",
    "\n",
    "mal_length = [35,39,38,41,30,57,41,35]\n",
    "mal_height = [23,26,19,30,21,24,28,20]\n"
   ]
  },
  {
   "cell_type": "code",
   "execution_count": 192,
   "metadata": {},
   "outputs": [
    {
     "data": {
      "text/plain": [
       "array([2, 2, 2, 2, 2, 2, 2, 2])"
      ]
     },
     "execution_count": 192,
     "metadata": {},
     "output_type": "execute_result"
    }
   ],
   "source": [
    "d_data = np.column_stack((dach_length, dach_height))\n",
    "d_label = np.zeros(len(d_data),int)\n",
    "\n",
    "s_data = np.column_stack((samo_length,samo_height))\n",
    "s_label = np.ones(len(s_data),int)\n",
    "\n",
    "m_data = np.column_stack((mal_length,mal_height))\n",
    "arr = []\n",
    "for _ in range(len(mal_length)):\n",
    "    arr.append(2)\n",
    "m_label = np.array(arr)\n",
    "\n",
    "m_label"
   ]
  },
  {
   "cell_type": "markdown",
   "metadata": {},
   "source": [
    "## 5.1 2차원 배열 출력"
   ]
  },
  {
   "cell_type": "code",
   "execution_count": 193,
   "metadata": {},
   "outputs": [
    {
     "name": "stdout",
     "output_type": "stream",
     "text": [
      "닥스훈트(0) : [[75, 24], [77, 29], [83, 19], [81, 32], [73, 21], [99, 22], [72, 19], [83, 34]]\n",
      "사모예드(1) : [[76, 55], [78, 58], [82, 53], [88, 54], [76, 61], [83, 52], [81, 57], [89, 64]]\n",
      "말티즈(2) : [[35, 23], [39, 26], [38, 19], [41, 30], [30, 21], [57, 24], [41, 28], [35, 20]]\n"
     ]
    }
   ],
   "source": [
    "print('닥스훈트(0) : ',end='')\n",
    "print(d_data.tolist())\n",
    "print('사모예드(1) : ',end='')\n",
    "print(s_data.tolist())\n",
    "print('말티즈(2) : ',end='')\n",
    "print(m_data.tolist())"
   ]
  },
  {
   "cell_type": "code",
   "execution_count": 194,
   "metadata": {},
   "outputs": [],
   "source": [
    "dogs = np.concatenate((d_data, s_data, m_data))\n",
    "labels = np.concatenate((d_label,s_label,m_label))\n",
    "\n",
    "dog_classes = {0:'Dachshund', 1:'Samoyed', 2:'Maltese'}\n",
    "dogKName = {0:'닥스훈트', 1:'사모예드', 2:'말티즈'}\n",
    "\n",
    "k = 3\n",
    "knn = KNeighborsClassifier(n_neighbors=k)\n",
    "knn.fit(dogs,labels)\n",
    "pred = np.array([[0,0,0] for _ in range(3)])\n",
    "for i in range(len(labels)):\n",
    "    p = knn.predict([dogs[i]])\n",
    "    if p == 0:\n",
    "        pred[labels[i]][0] += 1\n",
    "    elif p == 1:\n",
    "        pred[labels[i]][1] += 1\n",
    "    elif p == 2:\n",
    "        pred[labels[i]][2] += 1\n"
   ]
  },
  {
   "cell_type": "markdown",
   "metadata": {},
   "source": [
    "## 5.2 k = 3일때 결과 혼동행렬"
   ]
  },
  {
   "cell_type": "code",
   "execution_count": 195,
   "metadata": {},
   "outputs": [
    {
     "data": {
      "text/plain": [
       "array([[8, 0, 0],\n",
       "       [0, 8, 0],\n",
       "       [1, 0, 7]])"
      ]
     },
     "execution_count": 195,
     "metadata": {},
     "output_type": "execute_result"
    }
   ],
   "source": [
    "pred"
   ]
  },
  {
   "cell_type": "markdown",
   "metadata": {},
   "source": [
    "## 5.3 데이터 A,B,C,D에 대해 각각 n_neighbors를 3,5,7로 하여 결과 출력"
   ]
  },
  {
   "cell_type": "code",
   "execution_count": 196,
   "metadata": {},
   "outputs": [
    {
     "name": "stdout",
     "output_type": "stream",
     "text": [
      "A  데이터 분류 결과\n",
      "A [[58, 30]]  : n_neighbors가  3 일때 :  말티즈\n",
      "A [[58, 30]]  : n_neighbors가  5 일때 :  말티즈\n",
      "A [[58, 30]]  : n_neighbors가  7 일때 :  닥스훈트\n",
      "B  데이터 분류 결과\n",
      "B [[80, 26]]  : n_neighbors가  3 일때 :  닥스훈트\n",
      "B [[80, 26]]  : n_neighbors가  5 일때 :  닥스훈트\n",
      "B [[80, 26]]  : n_neighbors가  7 일때 :  닥스훈트\n",
      "C  데이터 분류 결과\n",
      "C [[80, 41]]  : n_neighbors가  3 일때 :  닥스훈트\n",
      "C [[80, 41]]  : n_neighbors가  5 일때 :  닥스훈트\n",
      "C [[80, 41]]  : n_neighbors가  7 일때 :  사모예드\n",
      "D  데이터 분류 결과\n",
      "D [[75, 55]]  : n_neighbors가  3 일때 :  사모예드\n",
      "D [[75, 55]]  : n_neighbors가  5 일때 :  사모예드\n",
      "D [[75, 55]]  : n_neighbors가  7 일때 :  사모예드\n"
     ]
    }
   ],
   "source": [
    "newDataList = [[58,30],[80,26],[80,41],[75,55]]\n",
    "kList = [3,5,7]\n",
    "abcLabel = ['A','B','C','D']\n",
    "for i in range(4):\n",
    "    print(abcLabel[i],\" 데이터 분류 결과\")\n",
    "    for k in kList:\n",
    "        knn = KNeighborsClassifier(n_neighbors=k)\n",
    "        knn.fit(dogs,labels)\n",
    "        pred = knn.predict([newDataList[i]])\n",
    "\n",
    "        print(abcLabel[i], [newDataList[i]], ' : n_neighbors가 ',k ,'일때 : ', dogKName[pred[0]])"
   ]
  },
  {
   "cell_type": "markdown",
   "metadata": {},
   "source": [
    "## 5.4 5.3의 결과로 보아 k값에 영향을 받지 않는 데이터와 그 이유\n",
    "위의 데이터 중에 B와 D가 k값에 영향을 받지 않는다. 그 이유는 다른 데이터에 비해서 학습 데이터들의 각각의 구분(닥스훈트, 사모예드, 말티즈) 평균 값에 근접해 있기 때문이다. 이는 이웃하는 데이터가 다 같은 종류일 가능성이 높다는 것을 의미한다."
   ]
  },
  {
   "cell_type": "markdown",
   "metadata": {},
   "source": [
    "## 5.5 5.3데이터를 산포도 그래프로 그려서 A,B,C,D데이터를 나타내자\n",
    "(가로축은 길이, 세로축은 높이)"
   ]
  },
  {
   "cell_type": "code",
   "execution_count": 197,
   "metadata": {},
   "outputs": [
    {
     "data": {
      "text/plain": [
       "<matplotlib.legend.Legend at 0x278a1e0c888>"
      ]
     },
     "execution_count": 197,
     "metadata": {},
     "output_type": "execute_result"
    },
    {
     "data": {
      "image/png": "[encoded data removed]",
      "text/plain": [
       "<Figure size 432x288 with 1 Axes>"
      ]
     },
     "metadata": {
      "needs_background": "light"
     },
     "output_type": "display_data"
    }
   ],
   "source": [
    "plt.scatter(dach_length,dach_height,c='red',label=dog_classes[0])\n",
    "plt.scatter(samo_length,samo_height,c='blue',marker='^', label=dog_classes[1])\n",
    "plt.scatter(mal_length,mal_height,c='green',marker='s', label=dog_classes[2])\n",
    "\n",
    "color = ['purple','gray','skyblue','green']\n",
    "for i in range(len(abcLabel)): plt.scatter(newDataList[i][0],newDataList[i][1],c=color[i],s=250,label=abcLabel[i])\n",
    "\n",
    "plt.xlabel('Length')\n",
    "plt.ylabel('Height')\n",
    "plt.title('Dog size')\n",
    "plt.legend(loc='upper left')"
   ]
  },
  {
   "cell_type": "markdown",
   "metadata": {},
   "source": [
    "## 5.6 이때까지의 모든 데이터를 포함한 dog_data를 만들고, k-평균 알고리즘을 적용하여 클러스터링을 수행하고, k가 2,3,4일 때의 수행 결과를 시각화하라."
   ]
  },
  {
   "cell_type": "code",
   "execution_count": 198,
   "metadata": {},
   "outputs": [
    {
     "data": {
      "text/plain": [
       "<matplotlib.collections.PathCollection at 0x278a1ec2d08>"
      ]
     },
     "execution_count": 198,
     "metadata": {},
     "output_type": "execute_result"
    },
    {
     "data": {
      "image/png": "[encoded data removed]",
      "text/plain": [
       "<Figure size 432x288 with 1 Axes>"
      ]
     },
     "metadata": {
      "needs_background": "light"
     },
     "output_type": "display_data"
    }
   ],
   "source": [
    "from sklearn.cluster import KMeans\n",
    "\n",
    "def KmeansPredictPlot(data,k):\n",
    "    model = KMeans(n_clusters=k)\n",
    "    model.fit(data)\n",
    "    labels = model.predict(data)\n",
    "    colors = np.array(['red','green','blue','purple'])\n",
    "    plt.suptitle('k-Means clustering. k=%d'%(k))\n",
    "    plt.scatter(data[:,0],data[:,1], color=colors[labels])\n",
    "\n",
    "\n",
    "dog_data = np.concatenate((dogs,newDataList))\n",
    "\n",
    "plt.suptitle('Dog data without label')\n",
    "plt.scatter(dog_data[:,0],dog_data[:,1])"
   ]
  },
  {
   "cell_type": "code",
   "execution_count": 201,
   "metadata": {},
   "outputs": [
    {
     "data": {
      "image/png": "[encoded data removed]",
      "text/plain": [
       "<Figure size 432x288 with 1 Axes>"
      ]
     },
     "metadata": {
      "needs_background": "light"
     },
     "output_type": "display_data"
    }
   ],
   "source": [
    "KmeansPredictPlot(dog_data,2)"
   ]
  },
  {
   "cell_type": "code",
   "execution_count": 202,
   "metadata": {},
   "outputs": [
    {
     "data": {
      "image/png": "[encoded data removed]",
      "text/plain": [
       "<Figure size 432x288 with 1 Axes>"
      ]
     },
     "metadata": {
      "needs_background": "light"
     },
     "output_type": "display_data"
    }
   ],
   "source": [
    "KmeansPredictPlot(dog_data,3)"
   ]
  },
  {
   "cell_type": "code",
   "execution_count": 203,
   "metadata": {},
   "outputs": [
    {
     "data": {
      "image/png": "[encoded data removed]",
      "text/plain": [
       "<Figure size 432x288 with 1 Axes>"
      ]
     },
     "metadata": {
      "needs_background": "light"
     },
     "output_type": "display_data"
    }
   ],
   "source": [
    "KmeansPredictPlot(dog_data,4)"
   ]
  }
 ],
 "metadata": {
  "interpreter": {
   "hash": "100804cdb0c2c12d0c395020509d6876028741fbb9c7f14f2d3601a87eccb5a7"
  },
  "kernelspec": {
   "display_name": "Python 3.7.13 ('main')",
   "language": "python",
   "name": "python3"
  },
  "language_info": {
   "codemirror_mode": {
    "name": "ipython",
    "version": 3
   },
   "file_extension": ".py",
   "mimetype": "text/x-python",
   "name": "python",
   "nbconvert_exporter": "python",
   "pygments_lexer": "ipython3",
   "version": "3.7.13"
  },
  "orig_nbformat": 4
 },
 "nbformat": 4,
 "nbformat_minor": 2
}
