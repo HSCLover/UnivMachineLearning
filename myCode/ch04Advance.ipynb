{
 "cells": [
  {
   "cell_type": "code",
   "execution_count": null,
   "metadata": {},
   "outputs": [],
   "source": [
    "import matplotlib.pyplot as plt\n",
    "import pandas as pd\n",
    "import numpy as np\n",
    "from sklearn import linear_model\n",
    "\n",
    "lin_data=pd.DataFrame(data={'HorsePower' : [130, 250, 190, 300, 210, 220, 170], 'FuelEfficiency': [16.3, 10.2, 11.1, 7.1, 12.1, 13.2, 14.2]})\n",
    "lin_data"
   ]
  },
  {
   "cell_type": "code",
   "execution_count": null,
   "metadata": {},
   "outputs": [],
   "source": [
    "x = lin_data['HorsePower'].to_numpy()\n",
    "y = lin_data['FuelEfficiency'].to_numpy()\n",
    "x = x[:, np.newaxis]\n",
    "print(x)"
   ]
  },
  {
   "cell_type": "code",
   "execution_count": null,
   "metadata": {},
   "outputs": [],
   "source": [
    "regr = linear_model.LinearRegression()\n",
    "regr.fit(x, y)"
   ]
  },
  {
   "cell_type": "code",
   "execution_count": null,
   "metadata": {},
   "outputs": [],
   "source": [
    "lin_data.plot(kind = 'scatter', x = 'HorsePower', y = 'FuelEfficiency')\n",
    "y_pred = regr.predict([[100], [400]])\n",
    "plt.plot([100, 400], y_pred)"
   ]
  }
 ],
 "metadata": {
  "interpreter": {
   "hash": "038aac31413cf80525bb7a03795f2c13d1e96349c5e23b254e54d365bc37d9d9"
  },
  "kernelspec": {
   "display_name": "Python 3.8.8 ('base')",
   "language": "python",
   "name": "python3"
  },
  "language_info": {
   "codemirror_mode": {
    "name": "ipython",
    "version": 3
   },
   "file_extension": ".py",
   "mimetype": "text/x-python",
   "name": "python",
   "nbconvert_exporter": "python",
   "pygments_lexer": "ipython3",
   "version": "3.9.11"
  },
  "orig_nbformat": 4
 },
 "nbformat": 4,
 "nbformat_minor": 2
}
