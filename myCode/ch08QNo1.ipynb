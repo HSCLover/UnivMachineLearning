{
 "cells": [
  {
   "cell_type": "code",
   "execution_count": 1,
   "metadata": {},
   "outputs": [],
   "source": [
    "from sklearn.model_selection import train_test_split as trsp\n",
    "from sklearn.datasets import load_iris\n",
    "import tensorflow as tf\n",
    "from tensorflow.keras.layers import Dense"
   ]
  },
  {
   "cell_type": "markdown",
   "metadata": {},
   "source": [
    "## 1) iris data의 형태"
   ]
  },
  {
   "cell_type": "code",
   "execution_count": 2,
   "metadata": {},
   "outputs": [
    {
     "name": "stdout",
     "output_type": "stream",
     "text": [
      "훈련용 데이터의 형태:  (105, 4)\n",
      "훈련용 데이터의 레이블 형태:  (105,)\n",
      "테스트용 데이터의 형태:  (45, 4)\n",
      "테스트용 데이터 레이블의 형태:  (45,)\n",
      "개별 훈련 테이터의 형태:  (4,)\n"
     ]
    }
   ],
   "source": [
    "iris = load_iris()\n",
    "trainX, testX, trainY, testY = trsp(iris.data,iris.target, test_size = 0.3)\n",
    "print('훈련용 데이터의 형태: ', trainX.shape)\n",
    "print('훈련용 데이터의 레이블 형태: ', trainY.shape)\n",
    "print('테스트용 데이터의 형태: ', testX.shape)\n",
    "print('테스트용 데이터 레이블의 형태: ', testY.shape)\n",
    "print('개별 훈련 테이터의 형태: ',trainX[0].shape)"
   ]
  },
  {
   "cell_type": "code",
   "execution_count": null,
   "metadata": {},
   "outputs": [],
   "source": []
  }
 ],
 "metadata": {
  "interpreter": {
   "hash": "100804cdb0c2c12d0c395020509d6876028741fbb9c7f14f2d3601a87eccb5a7"
  },
  "kernelspec": {
   "display_name": "Python 3.7.13 ('main')",
   "language": "python",
   "name": "python3"
  },
  "language_info": {
   "codemirror_mode": {
    "name": "ipython",
    "version": 3
   },
   "file_extension": ".py",
   "mimetype": "text/x-python",
   "name": "python",
   "nbconvert_exporter": "python",
   "pygments_lexer": "ipython3",
   "version": "3.7.13"
  },
  "orig_nbformat": 4
 },
 "nbformat": 4,
 "nbformat_minor": 2
}
