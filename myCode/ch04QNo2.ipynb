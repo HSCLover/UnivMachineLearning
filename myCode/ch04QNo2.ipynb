{
 "cells": [
  {
   "cell_type": "code",
   "execution_count": 12,
   "metadata": {},
   "outputs": [
    {
     "data": {
      "text/html": [
       "<div>\n",
       "<style scoped>\n",
       "    .dataframe tbody tr th:only-of-type {\n",
       "        vertical-align: middle;\n",
       "    }\n",
       "\n",
       "    .dataframe tbody tr th {\n",
       "        vertical-align: top;\n",
       "    }\n",
       "\n",
       "    .dataframe thead th {\n",
       "        text-align: right;\n",
       "    }\n",
       "</style>\n",
       "<table border=\"1\" class=\"dataframe\">\n",
       "  <thead>\n",
       "    <tr style=\"text-align: right;\">\n",
       "      <th></th>\n",
       "      <th>HorsePower</th>\n",
       "      <th>TotalWeight</th>\n",
       "      <th>FuelEfficiency</th>\n",
       "    </tr>\n",
       "  </thead>\n",
       "  <tbody>\n",
       "    <tr>\n",
       "      <th>0</th>\n",
       "      <td>130</td>\n",
       "      <td>1900</td>\n",
       "      <td>16.3</td>\n",
       "    </tr>\n",
       "    <tr>\n",
       "      <th>1</th>\n",
       "      <td>250</td>\n",
       "      <td>2600</td>\n",
       "      <td>10.2</td>\n",
       "    </tr>\n",
       "    <tr>\n",
       "      <th>2</th>\n",
       "      <td>190</td>\n",
       "      <td>2200</td>\n",
       "      <td>11.1</td>\n",
       "    </tr>\n",
       "    <tr>\n",
       "      <th>3</th>\n",
       "      <td>300</td>\n",
       "      <td>2900</td>\n",
       "      <td>7.1</td>\n",
       "    </tr>\n",
       "    <tr>\n",
       "      <th>4</th>\n",
       "      <td>210</td>\n",
       "      <td>2400</td>\n",
       "      <td>12.1</td>\n",
       "    </tr>\n",
       "    <tr>\n",
       "      <th>5</th>\n",
       "      <td>220</td>\n",
       "      <td>2300</td>\n",
       "      <td>13.2</td>\n",
       "    </tr>\n",
       "    <tr>\n",
       "      <th>6</th>\n",
       "      <td>170</td>\n",
       "      <td>2100</td>\n",
       "      <td>14.2</td>\n",
       "    </tr>\n",
       "  </tbody>\n",
       "</table>\n",
       "</div>"
      ],
      "text/plain": [
       "   HorsePower  TotalWeight  FuelEfficiency\n",
       "0         130         1900            16.3\n",
       "1         250         2600            10.2\n",
       "2         190         2200            11.1\n",
       "3         300         2900             7.1\n",
       "4         210         2400            12.1\n",
       "5         220         2300            13.2\n",
       "6         170         2100            14.2"
      ]
     },
     "execution_count": 12,
     "metadata": {},
     "output_type": "execute_result"
    }
   ],
   "source": [
    "import matplotlib.pyplot as plt\n",
    "import pandas as pd\n",
    "import numpy as np\n",
    "from sklearn import linear_model\n",
    "\n",
    "lin_data=pd.DataFrame(data={'HorsePower' : [130, 250, 190, 300, 210, 220, 170], 'TotalWeight' : [1900, 2600, 2200, 2900, 2400, 2300, 2100], 'FuelEfficiency': [16.3, 10.2, 11.1, 7.1, 12.1, 13.2, 14.2]})\n",
    "lin_data"
   ]
  },
  {
   "cell_type": "code",
   "execution_count": 13,
   "metadata": {},
   "outputs": [
    {
     "name": "stdout",
     "output_type": "stream",
     "text": [
      "   HorsePower  TotalWeight\n",
      "0         130         1900\n",
      "1         250         2600\n",
      "2         190         2200\n",
      "3         300         2900\n",
      "4         210         2400\n",
      "5         220         2300\n",
      "6         170         2100\n",
      "0    16.3\n",
      "1    10.2\n",
      "2    11.1\n",
      "3     7.1\n",
      "4    12.1\n",
      "5    13.2\n",
      "6    14.2\n",
      "Name: FuelEfficiency, dtype: float64\n"
     ]
    }
   ],
   "source": [
    "x = lin_data[['HorsePower','TotalWeight']]\n",
    "y = lin_data['FuelEfficiency']\n",
    "print(x)\n",
    "print(y)"
   ]
  },
  {
   "cell_type": "code",
   "execution_count": 14,
   "metadata": {},
   "outputs": [
    {
     "data": {
      "text/plain": [
       "LinearRegression()"
      ]
     },
     "execution_count": 14,
     "metadata": {},
     "output_type": "execute_result"
    }
   ],
   "source": [
    "lin_model = linear_model.LinearRegression()\n",
    "lin_model.fit(x,y)"
   ]
  },
  {
   "cell_type": "code",
   "execution_count": 19,
   "metadata": {},
   "outputs": [
    {
     "data": {
      "text/plain": [
       "[<matplotlib.lines.Line2D at 0x21fc3effd88>]"
      ]
     },
     "execution_count": 19,
     "metadata": {},
     "output_type": "execute_result"
    },
    {
     "data": {
      "image/png": "[encoded data removed]",
      "text/plain": [
       "<Figure size 432x288 with 1 Axes>"
      ]
     },
     "metadata": {
      "needs_background": "light"
     },
     "output_type": "display_data"
    }
   ],
   "source": [
    "y_pred = lin_model.predict(x)\n",
    "plt.scatter(y,y_pred)\n",
    "xy_range = [0,20]\n",
    "plt.plot(xy_range,xy_range)"
   ]
  },
  {
   "cell_type": "code",
   "execution_count": 21,
   "metadata": {},
   "outputs": [
    {
     "name": "stdout",
     "output_type": "stream",
     "text": [
      "계수 : [-0.00689189 -0.00731081]\n",
      "y 절편 : 30.604054054054057\n",
      "예측 점수 : 0.8871254041192391\n"
     ]
    }
   ],
   "source": [
    "print('계수 : {coefficient}'.format(coefficient=lin_model.coef_))\n",
    "print('y 절편 : {y_intercept}'.format(y_intercept=lin_model.intercept_))\n",
    "print('예측 점수 : {score}'.format(score=lin_model.score(x,y)))"
   ]
  }
 ],
 "metadata": {
  "interpreter": {
   "hash": "100804cdb0c2c12d0c395020509d6876028741fbb9c7f14f2d3601a87eccb5a7"
  },
  "kernelspec": {
   "display_name": "Python 3.7.13 ('main')",
   "language": "python",
   "name": "python3"
  },
  "language_info": {
   "codemirror_mode": {
    "name": "ipython",
    "version": 3
   },
   "file_extension": ".py",
   "mimetype": "text/x-python",
   "name": "python",
   "nbconvert_exporter": "python",
   "pygments_lexer": "ipython3",
   "version": "3.7.13"
  },
  "orig_nbformat": 4
 },
 "nbformat": 4,
 "nbformat_minor": 2
}
