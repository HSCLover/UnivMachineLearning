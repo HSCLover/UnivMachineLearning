{
 "cells": [
  {
   "cell_type": "code",
   "execution_count": 157,
   "metadata": {},
   "outputs": [
    {
     "data": {
      "text/html": [
       "<div>\n",
       "<style scoped>\n",
       "    .dataframe tbody tr th:only-of-type {\n",
       "        vertical-align: middle;\n",
       "    }\n",
       "\n",
       "    .dataframe tbody tr th {\n",
       "        vertical-align: top;\n",
       "    }\n",
       "\n",
       "    .dataframe thead th {\n",
       "        text-align: right;\n",
       "    }\n",
       "</style>\n",
       "<table border=\"1\" class=\"dataframe\">\n",
       "  <thead>\n",
       "    <tr style=\"text-align: right;\">\n",
       "      <th></th>\n",
       "      <th>HorsePower</th>\n",
       "      <th>FuelEfficiency</th>\n",
       "    </tr>\n",
       "  </thead>\n",
       "  <tbody>\n",
       "    <tr>\n",
       "      <th>0</th>\n",
       "      <td>130</td>\n",
       "      <td>16.3</td>\n",
       "    </tr>\n",
       "    <tr>\n",
       "      <th>1</th>\n",
       "      <td>250</td>\n",
       "      <td>10.2</td>\n",
       "    </tr>\n",
       "    <tr>\n",
       "      <th>2</th>\n",
       "      <td>190</td>\n",
       "      <td>11.1</td>\n",
       "    </tr>\n",
       "    <tr>\n",
       "      <th>3</th>\n",
       "      <td>300</td>\n",
       "      <td>7.1</td>\n",
       "    </tr>\n",
       "    <tr>\n",
       "      <th>4</th>\n",
       "      <td>210</td>\n",
       "      <td>12.1</td>\n",
       "    </tr>\n",
       "    <tr>\n",
       "      <th>5</th>\n",
       "      <td>220</td>\n",
       "      <td>13.2</td>\n",
       "    </tr>\n",
       "    <tr>\n",
       "      <th>6</th>\n",
       "      <td>170</td>\n",
       "      <td>14.2</td>\n",
       "    </tr>\n",
       "  </tbody>\n",
       "</table>\n",
       "</div>"
      ],
      "text/plain": [
       "   HorsePower  FuelEfficiency\n",
       "0         130            16.3\n",
       "1         250            10.2\n",
       "2         190            11.1\n",
       "3         300             7.1\n",
       "4         210            12.1\n",
       "5         220            13.2\n",
       "6         170            14.2"
      ]
     },
     "execution_count": 157,
     "metadata": {},
     "output_type": "execute_result"
    }
   ],
   "source": [
    "import matplotlib.pyplot as plt\n",
    "import pandas as pd\n",
    "import numpy as np\n",
    "from sklearn import linear_model\n",
    "\n",
    "lin_data=pd.DataFrame(data={'HorsePower' : [130, 250, 190, 300, 210, 220, 170], 'FuelEfficiency': [16.3, 10.2, 11.1, 7.1, 12.1, 13.2, 14.2]})\n",
    "lin_data"
   ]
  },
  {
   "cell_type": "code",
   "execution_count": 158,
   "metadata": {},
   "outputs": [
    {
     "name": "stdout",
     "output_type": "stream",
     "text": [
      "[[130]\n",
      " [250]\n",
      " [190]\n",
      " [300]\n",
      " [210]\n",
      " [220]\n",
      " [170]]\n"
     ]
    }
   ],
   "source": [
    "x = lin_data['HorsePower'].to_numpy()\n",
    "y = lin_data['FuelEfficiency'].to_numpy()\n",
    "x = x[:, np.newaxis]\n",
    "print(x)"
   ]
  },
  {
   "cell_type": "code",
   "execution_count": 159,
   "metadata": {},
   "outputs": [
    {
     "data": {
      "text/plain": [
       "LinearRegression()"
      ]
     },
     "execution_count": 159,
     "metadata": {},
     "output_type": "execute_result"
    }
   ],
   "source": [
    "model = linear_model.LinearRegression()\n",
    "model.fit(x, y)"
   ]
  },
  {
   "cell_type": "code",
   "execution_count": 160,
   "metadata": {},
   "outputs": [
    {
     "name": "stdout",
     "output_type": "stream",
     "text": [
      "[[  0]\n",
      " [270]\n",
      " [400]]\n",
      "[22.58626374  9.01208791  2.47637363]\n"
     ]
    },
    {
     "data": {
      "text/plain": [
       "[<matplotlib.lines.Line2D at 0x194fbc83e08>]"
      ]
     },
     "execution_count": 160,
     "metadata": {},
     "output_type": "execute_result"
    },
    {
     "data": {
      "image/png": "[encoded data removed]",
      "text/plain": [
       "<Figure size 432x288 with 1 Axes>"
      ]
     },
     "metadata": {
      "needs_background": "light"
     },
     "output_type": "display_data"
    }
   ],
   "source": [
    "lin_data.plot(kind = 'scatter', x = 'HorsePower', y = 'FuelEfficiency')\n",
    "x_test = np.array([0,270,400])\n",
    "x_test_d = x_test[:,np.newaxis]\n",
    "print(x_test_d)\n",
    "y_pred = model.predict(x_test_d)\n",
    "print(y_pred)\n",
    "\n",
    "plt.plot(x_test, y_pred)"
   ]
  },
  {
   "cell_type": "code",
   "execution_count": 161,
   "metadata": {},
   "outputs": [
    {
     "name": "stdout",
     "output_type": "stream",
     "text": [
      "0.8706727649378527\n"
     ]
    }
   ],
   "source": [
    "train_score = model.score(x,y)\n",
    "print(train_score)"
   ]
  },
  {
   "cell_type": "code",
   "execution_count": 162,
   "metadata": {},
   "outputs": [
    {
     "name": "stdout",
     "output_type": "stream",
     "text": [
      "계수 : [-0.05027473]\n",
      "y 절편 : 22.58626373626374\n",
      "예측 점수 : 0.8706727649378527\n"
     ]
    }
   ],
   "source": [
    "print('계수 : {coefficient}'.format(coefficient=model.coef_))\n",
    "print('y 절편 : {y_intercept}'.format(y_intercept=model.intercept_))\n",
    "print('예측 점수 : {predict_score}'.format(predict_score=train_score))\n"
   ]
  },
  {
   "cell_type": "code",
   "execution_count": 163,
   "metadata": {},
   "outputs": [
    {
     "name": "stdout",
     "output_type": "stream",
     "text": [
      "270 마력 자동차의 예상 연비 : [9.01208791]\n"
     ]
    }
   ],
   "source": [
    "x_guess = 270\n",
    "y_guess = model.predict([[x_guess]])\n",
    "\n",
    "print('{x} 마력 자동차의 예상 연비 : {y}'.format(x=x_guess,y=y_guess))"
   ]
  }
 ],
 "metadata": {
  "interpreter": {
   "hash": "038aac31413cf80525bb7a03795f2c13d1e96349c5e23b254e54d365bc37d9d9"
  },
  "kernelspec": {
   "display_name": "Python 3.8.8 ('base')",
   "language": "python",
   "name": "python3"
  },
  "language_info": {
   "codemirror_mode": {
    "name": "ipython",
    "version": 3
   },
   "file_extension": ".py",
   "mimetype": "text/x-python",
   "name": "python",
   "nbconvert_exporter": "python",
   "pygments_lexer": "ipython3",
   "version": "3.7.13"
  },
  "orig_nbformat": 4
 },
 "nbformat": 4,
 "nbformat_minor": 2
}
